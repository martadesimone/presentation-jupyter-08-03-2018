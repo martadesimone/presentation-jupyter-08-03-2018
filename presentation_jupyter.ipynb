{
 "cells": [
  {
   "cell_type": "markdown",
   "metadata": {
    "slideshow": {
     "slide_type": "slide"
    }
   },
   "source": [
    "# Python day : Jupyter ecosystem\n",
    "\n",
    "## March 8 2018 \n",
    "\n",
    "## Raphaël Bacher\n",
    "raphael.bacher@univ-grenoble-alpes.fr\n",
    "<div style=\"margin: 0 auto;width:30%\">\n",
    "<img src=\"jupyter_log.png\">\n",
    "</div>"
   ]
  },
  {
   "cell_type": "markdown",
   "metadata": {
    "slideshow": {
     "slide_type": "slide"
    }
   },
   "source": [
    "## Plan\n",
    "\n",
    "- Jupyter ecosystem\n",
    "    - Self-use\n",
    "    - Services\n",
    "- Jupyter@UGA"
   ]
  },
  {
   "cell_type": "markdown",
   "metadata": {
    "slideshow": {
     "slide_type": "slide"
    }
   },
   "source": [
    "## A bit of history\n",
    "\n",
    "At the beginning :\n",
    "- 2001 : IPython (F. Perez), a REPL (Read–Eval–Print Loop) client-server\n",
    "- 2011 : IPython notebook : app web for documents mixing code, equations, images and text\n",
    "\n",
    "Key concept : a client-server protocol\n",
    "<div style=\"margin: 0 auto;width:20%\">\n",
    "![](ipy_kernel_and_terminal.png)\n",
    "</div>"
   ]
  },
  {
   "cell_type": "markdown",
   "metadata": {
    "slideshow": {
     "slide_type": "slide"
    }
   },
   "source": [
    "## Jupyter Now\n",
    "\n",
    "- Jupyter Notebook : heir to the IPython notebook (~2015)\n",
    "- JupyterHub : a multi-user version for classes, workshops etc...\n",
    "- Jupyterlab : a web IDE \n",
    "- Kernels for more than 40 languages : Python, R, Julia, C++ (!) ...\n",
    "- \\> 6M users (2017)\n",
    "- \\> 1M de notebooks on Github\n",
    "- ...\n"
   ]
  },
  {
   "cell_type": "markdown",
   "metadata": {
    "slideshow": {
     "slide_type": "slide"
    }
   },
   "source": [
    "## Notebook Jupyter\n",
    "<div class=\"row\" style=\"display:flex;width:100%\">\n",
    "<div class=\"column\" style=\"margin:10px; flex:auto\">\n",
    "<ul>\n",
    "    <li> A document format (in JSON)\n",
    "    <li> A client-server web app\n",
    "    <li> Mix text, results and code (with local or remote execution).\n",
    "</ul>\n",
    "\n",
    "Limits :\n",
    "<ul>\n",
    "<li>Not the only nor the first Notebook (Mathematica, Apache Zeppelin, Rmarkdown...)\n",
    "<li> Bad versionning (JSON...), non-linear execution of cells...\n",
    "</ul>\n",
    "</div>\n",
    "<div class=\"column\" style=\"margin:10px; flex:auto\">\n",
    "<img src=\"jupyter_notebook.png\">\n",
    "</div>\n",
    "</div>"
   ]
  },
  {
   "cell_type": "markdown",
   "metadata": {
    "slideshow": {
     "slide_type": "slide"
    }
   },
   "source": [
    "## Notebook Jupyter : a personal use case\n",
    "\n",
    "During my thesis (astro data analysis) :\n",
    "- lots of long computations on quite big data, with need of graphical feedback\n",
    "- jupyter server on a personal server with the data\n",
    "- access from my browser in my laptop\n",
    "\n",
    "Advantages :\n",
    "- remote graphical access (\"ssh -X\" ... but without the lag...)\n",
    "- session persistency (\"screen/tmux\")\n",
    "- step by step execution (avoid replaying costly preprocessings)\n",
    "\n",
    "-> Complentary to an IDE (spyder, pycharm, Vim...) for data analysis, exploration, prototyping"
   ]
  },
  {
   "cell_type": "markdown",
   "metadata": {
    "slideshow": {
     "slide_type": "slide"
    }
   },
   "source": [
    "## Ipywidgets\n",
    "\n",
    "- Widgets allowing graphical interactions\n",
    "- 2D, 3D plotting librairies built on these \n",
    "\n",
    "http://jupyter.org/widgets"
   ]
  },
  {
   "cell_type": "code",
   "execution_count": 1,
   "metadata": {
    "slideshow": {
     "slide_type": "slide"
    }
   },
   "outputs": [
    {
     "data": {
      "application/vnd.jupyter.widget-view+json": {
       "model_id": "e4eca454b0eb4c4fb567c0f1dde7910c",
       "version_major": 2,
       "version_minor": 0
      },
      "text/html": [
       "<p>Failed to display Jupyter Widget of type <code>interactive</code>.</p>\n",
       "<p>\n",
       "  If you're reading this message in the Jupyter Notebook or JupyterLab Notebook, it may mean\n",
       "  that the widgets JavaScript is still loading. If this message persists, it\n",
       "  likely means that the widgets JavaScript library is either not installed or\n",
       "  not enabled. See the <a href=\"https://ipywidgets.readthedocs.io/en/stable/user_install.html\">Jupyter\n",
       "  Widgets Documentation</a> for setup instructions.\n",
       "</p>\n",
       "<p>\n",
       "  If you're reading this message in another frontend (for example, a static\n",
       "  rendering on GitHub or <a href=\"https://nbviewer.jupyter.org/\">NBViewer</a>),\n",
       "  it may mean that your frontend doesn't currently support widgets.\n",
       "</p>\n"
      ],
      "text/plain": [
       "interactive(children=(IntSlider(value=10, description='x', max=30, min=-10), Output()), _dom_classes=('widget-interact',))"
      ]
     },
     "metadata": {},
     "output_type": "display_data"
    }
   ],
   "source": [
    "from ipywidgets import interact\n",
    "\n",
    "def f(x):\n",
    "    return x\n",
    "interact(f, x=10);"
   ]
  },
  {
   "cell_type": "code",
   "execution_count": 7,
   "metadata": {
    "slideshow": {
     "slide_type": "slide"
    }
   },
   "outputs": [
    {
     "data": {
      "application/vnd.jupyter.widget-view+json": {
       "model_id": "60b2357dfb364e419ccb8b682b7f2008",
       "version_major": 2,
       "version_minor": 0
      },
      "text/html": [
       "<p>Failed to display Jupyter Widget of type <code>Map</code>.</p>\n",
       "<p>\n",
       "  If you're reading this message in the Jupyter Notebook or JupyterLab Notebook, it may mean\n",
       "  that the widgets JavaScript is still loading. If this message persists, it\n",
       "  likely means that the widgets JavaScript library is either not installed or\n",
       "  not enabled. See the <a href=\"https://ipywidgets.readthedocs.io/en/stable/user_install.html\">Jupyter\n",
       "  Widgets Documentation</a> for setup instructions.\n",
       "</p>\n",
       "<p>\n",
       "  If you're reading this message in another frontend (for example, a static\n",
       "  rendering on GitHub or <a href=\"https://nbviewer.jupyter.org/\">NBViewer</a>),\n",
       "  it may mean that your frontend doesn't currently support widgets.\n",
       "</p>\n"
      ],
      "text/plain": [
       "Map(basemap={'url': 'https://{s}.tile.openstreetmap.org/{z}/{x}/{y}.png', 'max_zoom': 19, 'attribution': 'Map data (c) <a href=\"https://openstreetmap.org\">OpenStreetMap</a> contributors'}, center=[34.6252978589571, -77.34580993652344], layers=(TileLayer(base=True, max_zoom=19, min_zoom=1, options=['attribution', 'detect_retina', 'max_zoom', 'min_zoom', 'tile_size']),), options=['attribution_control', 'basemap', 'bounce_at_zoom_limits', 'box_zoom', 'center', 'close_popup_on_click', 'double_click_zoom', 'dragging', 'inertia', 'inertia_deceleration', 'inertia_max_speed', 'keyboard', 'keyboard_pan_offset', 'keyboard_zoom_offset', 'max_zoom', 'min_zoom', 'scroll_wheel_zoom', 'tap', 'tap_tolerance', 'touch_zoom', 'world_copy_jump', 'zoom', 'zoom_animation_threshold', 'zoom_control', 'zoom_start'], zoom=10)"
      ]
     },
     "metadata": {},
     "output_type": "display_data"
    }
   ],
   "source": [
    "from ipyleaflet import Map\n",
    "\n",
    "Map(center=[34.6252978589571, -77.34580993652344], zoom=10)"
   ]
  },
  {
   "cell_type": "code",
   "execution_count": 6,
   "metadata": {
    "slideshow": {
     "slide_type": "slide"
    }
   },
   "outputs": [
    {
     "data": {
      "application/vnd.jupyter.widget-view+json": {
       "model_id": "24a04cf7ed0c418f91f166d52fa49995",
       "version_major": 2,
       "version_minor": 0
      },
      "text/html": [
       "<p>Failed to display Jupyter Widget of type <code>VBox</code>.</p>\n",
       "<p>\n",
       "  If you're reading this message in the Jupyter Notebook or JupyterLab Notebook, it may mean\n",
       "  that the widgets JavaScript is still loading. If this message persists, it\n",
       "  likely means that the widgets JavaScript library is either not installed or\n",
       "  not enabled. See the <a href=\"https://ipywidgets.readthedocs.io/en/stable/user_install.html\">Jupyter\n",
       "  Widgets Documentation</a> for setup instructions.\n",
       "</p>\n",
       "<p>\n",
       "  If you're reading this message in another frontend (for example, a static\n",
       "  rendering on GitHub or <a href=\"https://nbviewer.jupyter.org/\">NBViewer</a>),\n",
       "  it may mean that your frontend doesn't currently support widgets.\n",
       "</p>\n"
      ],
      "text/plain": [
       "VBox(children=(Figure(camera_center=[0.0, 0.0, 0.0], height=500, matrix_projection=[0.0, 0.0, 0.0, 0.0, 0.0, 0.0, 0.0, 0.0, 0.0, 0.0, 0.0, 0.0, 0.0, 0.0, 0.0, 0.0], matrix_world=[0.0, 0.0, 0.0, 0.0, 0.0, 0.0, 0.0, 0.0, 0.0, 0.0, 0.0, 0.0, 0.0, 0.0, 0.0, 0.0], scatters=[Scatter(color_selected=array('grey',\n",
       "      dtype='<U4'), geo='arrow', size=array(1), size_selected=array(5), vx=array([  53.276722 ,  252.810791 ,   96.276474 , ...,   63.2067719,\n",
       "         20.562912 ,   62.0345764]), vy=array([ 288.386047 ,  -69.9498444,  226.440201 , ...,  135.197815 ,\n",
       "         72.8022614,  -94.5759735]), vz=array([-95.2649078, -56.3121033, -34.7527161, ..., -76.7877426,\n",
       "        58.2470703,  14.9864044]), x=array([ -0.77747077,   3.77427316,   1.3757627 , ...,   4.2751708 ,\n",
       "       -16.5933533 ,  -1.29029   ]), y=array([  2.10626292,   2.23387194,  -6.3283844 , ...,  12.3548756 ,\n",
       "        12.5755587 ,  -4.7683897 ]), z=array([  1.93743467,   3.76209331,   2.63250017, ...,  -5.19266605,\n",
       "        15.1321297 ,  -0.78672153]))], style={'axes': {'visible': True, 'label': {'color': 'black'}, 'ticklabel': {'color': 'black'}, 'color': 'black'}, 'box': {'visible': True}, 'background-color': 'white'}, tf=None, width=400, xlim=[-30.0, 30.0], ylim=[-30.0, 30.0], zlim=[-30.0, 30.0]),))"
      ]
     },
     "metadata": {},
     "output_type": "display_data"
    }
   ],
   "source": [
    "import ipyvolume as ipv\n",
    "import vaex\n",
    "\n",
    "ds = vaex.example()\n",
    "N = 10000\n",
    "ipv.figure()\n",
    "quiver = ipv.quiver(ds.data.x[:N],  ds.data.y[:N],  ds.data.z[:N],\n",
    "                    ds.data.vx[:N], ds.data.vy[:N], ds.data.vz[:N],\n",
    "                    size=1, size_selected=5, color_selected=\"grey\")\n",
    "ipv.xyzlim(-30, 30)\n",
    "ipv.show()"
   ]
  },
  {
   "cell_type": "markdown",
   "metadata": {
    "slideshow": {
     "slide_type": "slide"
    }
   },
   "source": [
    "## Jupyterlab\n",
    "\n",
    "- Same notebook format/server but greatly improved client interface\n",
    "- A web IDE (not quite there yet)\n",
    "- A View/Model mechanism for all documents\n",
    "  - allow e.g. ti write a document in md/latex and see live preview\n",
    "- Highly customizable by extensions (all curent parts are extensions) :\n",
    "  - git/github\n",
    "  - draw.io\n",
    "  - geojson \n",
    "  - ...\n",
    "  \n",
    " ### Demo : change /tree to /lab\n",
    " "
   ]
  },
  {
   "cell_type": "markdown",
   "metadata": {
    "slideshow": {
     "slide_type": "slide"
    }
   },
   "source": [
    "## JupyterHub\n",
    "\n",
    "\n",
    "<div class=\"row\" style=\"display:flex;width:100%\">\n",
    "<div class=\"column\" style=\"margin:10px; flex:auto\">\n",
    "<h3> Composants </h3>\n",
    "<ul>\n",
    "<li>A web proxy\n",
    "<li>An environnement image (docker)\n",
    "<li>A list of users\n",
    "</ul>\n",
    "\n",
    "<h3>JupyterHub@UGA</h3>\n",
    "https://jupyterhub.u-ga.fr\n",
    "</div>\n",
    "<div class=\"column\" style=\"flex:auto;margin:10px\">\n",
    "<img src=\"jupyterhub_schema.png\">\n",
    "</div>\n",
    "</div>"
   ]
  },
  {
   "cell_type": "markdown",
   "metadata": {
    "slideshow": {
     "slide_type": "slide"
    }
   },
   "source": [
    "## BinderHub\n",
    "\n",
    "<div class=\"row\" style=\"display:flex; margin: 0 auto; width: 100%\">\n",
    "<div class=\"column\" style=\"flex:30%; margin: 10px\">\n",
    "    Combine the proxy to docker instance of Jupyterhub with a project for \"repo to docker image\"\n",
    "\n",
    "<ul>\n",
    "<li> We put our code (demo/tuto, course...) on a github repo online\n",
    "<li> We generate a link on https://mybinder.org/ from our repo link\n",
    "<li> When going to this new url, any webuser get a sandbox containing our code and with all wanted packages already installed.\n",
    "</ul>\n",
    "</div>\n",
    "<div class=\"column\" style=\"flex:40%; margin: 10px\">\n",
    "<img src=\"architecture.png\">\n",
    "</div>\n",
    "</div>\n"
   ]
  },
  {
   "cell_type": "markdown",
   "metadata": {
    "slideshow": {
     "slide_type": "slide"
    }
   },
   "source": [
    "## Summary of user stories\n",
    "\n",
    "- Do data analysis, prototyping...\n",
    "    -> Jupyterlab : Notebook + editor+console+terminal\n",
    "- Publish a demo/tuto of a library\n",
    "    -> BinderHub : https://mybinder.org/\n",
    "- Share a static (html) version of a notebook online  :\n",
    "    -> nbviewer : https://nbviewer.jupyter.org/\n",
    "- Give a working environment to students  :\n",
    "    -> jupyterhub : https://jupyterhub.u-ga.fr\n",
    "- Give, fetch and grade exercises : nbgrader"
   ]
  },
  {
   "cell_type": "markdown",
   "metadata": {
    "slideshow": {
     "slide_type": "slide"
    }
   },
   "source": [
    "## Lots of utilities\n",
    "\n",
    "- nbconvert (used by nbviewer and \"Download as\" menu) : convert notebook in md, latex, pdf, slides html\n",
    "- RISE : jupyter in slides mode\n",
    "- nteract : notebook in native app (no browser)\n",
    "- hydrogen : interactive coding in Atom editor\n",
    "- notedown/ipyrmd : write a notebook in (r)markdown\n",
    "- nbinteract/thebelab : interactive html\n",
    "- [Gallery of notebooks, books etc...](https://github.com/jupyter/jupyter/wiki/a-gallery-of-interesting-jupyter-notebooks)\n",
    "- [Colaboratory](https://colab.research.google.com) : jupyter notebook in Google Drive : collaborative :-), Google :-("
   ]
  },
  {
   "cell_type": "markdown",
   "metadata": {
    "slideshow": {
     "slide_type": "slide"
    }
   },
   "source": [
    "## Jupyter@UGA\n",
    "\n",
    "### Already here :\n",
    "A JupyterHub server : https://jupyterhub.u-ga.fr\n",
    "\n",
    "- Jupyter notebook access\n",
    "- CAS UGA authentication(login agalan)\n",
    "- 1 single environment (Docker image) : scientific paqckages R+Python \n",
    "- 2 servers : 128Go RAM, 32 coeurs\n",
    "- ~150 users\n",
    "- Persistant data\n",
    "\n",
    "\n",
    "### In development\n",
    "- A binderhub service\n",
    "- A platform to ask for jupyterhub instances (for workshops, classes...)"
   ]
  },
  {
   "cell_type": "markdown",
   "metadata": {
    "slideshow": {
     "slide_type": "slide"
    }
   },
   "source": [
    "## Take-home message\n",
    "\n",
    "- Jupyter is no more \"just\" Python and the Notebook.\n",
    "\n",
    "But\n",
    "- An open-source ecosystem becoming larger and larger, cross-language and with numerous usages\n",
    "- Current integration of services at UGA and nationaly\n",
    "- A great tool for BOTH researching and teaching \n",
    "\n",
    "*Open tools for open science :-)*"
   ]
  }
 ],
 "metadata": {
  "celltoolbar": "Slideshow",
  "kernelspec": {
   "display_name": "Python 3",
   "language": "python",
   "name": "python3"
  },
  "language_info": {
   "codemirror_mode": {
    "name": "ipython",
    "version": 3
   },
   "file_extension": ".py",
   "mimetype": "text/x-python",
   "name": "python",
   "nbconvert_exporter": "python",
   "pygments_lexer": "ipython3",
   "version": "3.6.4"
  }
 },
 "nbformat": 4,
 "nbformat_minor": 2
}
