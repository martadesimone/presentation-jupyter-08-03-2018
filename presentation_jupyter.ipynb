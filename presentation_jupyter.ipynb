{
 "cells": [
  {
   "cell_type": "markdown",
   "metadata": {
    "slideshow": {
     "slide_type": "slide"
    }
   },
   "source": [
    "# Python day : Jupyter ecosystem\n",
    "\n",
    "## March 8 2018 \n",
    "\n",
    "## Raphaël Bacher\n",
    "raphael.bacher@univ-grenoble-alpes.fr\n",
    "\n",
    "## https://tinyurl.com/demo0803\n",
    "\n",
    "<div style=\"margin: 0 auto;width:30%\">\n",
    "<img src=\"jupyter_log.png\">\n",
    "</div>"
   ]
  },
  {
   "cell_type": "markdown",
   "metadata": {
    "slideshow": {
     "slide_type": "slide"
    }
   },
   "source": [
    "## Plan\n",
    "\n",
    "- Jupyter ecosystem\n",
    "    - Self-use\n",
    "    - Services\n",
    "- Jupyter@UGA"
   ]
  },
  {
   "cell_type": "markdown",
   "metadata": {
    "slideshow": {
     "slide_type": "slide"
    }
   },
   "source": [
    "## A bit of history\n",
    "\n",
    "At the beginning :\n",
    "- 2001 : IPython (F. Perez), a REPL (Read–Eval–Print Loop) client-server\n",
    "- 2011 : IPython notebook : app web for documents mixing code, equations, images and text\n",
    "\n",
    "Key concept : a client-server protocol\n",
    "<div style=\"margin: 0 auto;width:20%\">\n",
    "![](ipy_kernel_and_terminal.png)\n",
    "</div>"
   ]
  },
  {
   "cell_type": "markdown",
   "metadata": {
    "slideshow": {
     "slide_type": "slide"
    }
   },
   "source": [
    "## Jupyter Now\n",
    "\n",
    "- Jupyter Notebook : heir to the IPython notebook (~2015)\n",
    "- JupyterHub : a multi-user version for classes, workshops etc...\n",
    "- Jupyterlab : a web IDE \n",
    "- Kernels for more than 40 languages : Python, R, Julia, C++ (!) ...\n",
    "- \\> 6M users (2017)\n",
    "- \\> 1M de notebooks on Github\n",
    "- ...\n"
   ]
  },
  {
   "cell_type": "markdown",
   "metadata": {
    "slideshow": {
     "slide_type": "slide"
    }
   },
   "source": [
    "## Notebook Jupyter\n",
    "<div class=\"row\" style=\"display:flex;width:100%\">\n",
    "<div class=\"column\" style=\"margin:10px; flex:auto\">\n",
    "<ul>\n",
    "    <li> A document format (in JSON)\n",
    "    <li> A client-server web app\n",
    "    <li> Mix text, results and code (with local or remote execution).\n",
    "</ul>\n",
    "\n",
    "Limits :\n",
    "<ul>\n",
    "<li>Not the only nor the first Notebook (Mathematica, Apache Zeppelin, Rmarkdown...)\n",
    "<li> Bad versionning (JSON...), non-linear execution of cells...\n",
    "</ul>\n",
    "</div>\n",
    "<div class=\"column\" style=\"margin:10px; flex:auto\">\n",
    "<img src=\"jupyter_notebook.png\">\n",
    "</div>\n",
    "</div>"
   ]
  },
  {
   "cell_type": "markdown",
   "metadata": {
    "slideshow": {
     "slide_type": "slide"
    }
   },
   "source": [
    "## Notebook Jupyter : a personal use case\n",
    "\n",
    "During my thesis (astro data analysis) :\n",
    "- lots of long computations on quite big data, with need of graphical feedback\n",
    "- jupyter server on a personal server with the data\n",
    "- access from my browser in my laptop\n",
    "\n",
    "Advantages :\n",
    "- remote graphical access (\"ssh -X\" ... but without the lag...)\n",
    "- session persistency (\"screen/tmux\")\n",
    "- step by step execution (avoid replaying costly preprocessings)\n",
    "\n",
    "-> Complentary to an IDE (spyder, pycharm, Vim...) for data analysis, exploration, prototyping"
   ]
  },
  {
   "cell_type": "markdown",
   "metadata": {
    "slideshow": {
     "slide_type": "slide"
    }
   },
   "source": [
    "## Ipywidgets\n",
    "\n",
    "- Widgets allowing graphical interactions\n",
    "- 2D, 3D plotting librairies built on these \n",
    "\n",
    "http://jupyter.org/widgets"
   ]
  },
  {
   "cell_type": "code",
   "execution_count": 1,
   "metadata": {
    "slideshow": {
     "slide_type": "slide"
    }
   },
   "outputs": [
    {
     "data": {
      "application/vnd.jupyter.widget-view+json": {
       "model_id": "e4eca454b0eb4c4fb567c0f1dde7910c",
       "version_major": 2,
       "version_minor": 0
      },
      "text/html": [
       "<p>Failed to display Jupyter Widget of type <code>interactive</code>.</p>\n",
       "<p>\n",
       "  If you're reading this message in the Jupyter Notebook or JupyterLab Notebook, it may mean\n",
       "  that the widgets JavaScript is still loading. If this message persists, it\n",
       "  likely means that the widgets JavaScript library is either not installed or\n",
       "  not enabled. See the <a href=\"https://ipywidgets.readthedocs.io/en/stable/user_install.html\">Jupyter\n",
       "  Widgets Documentation</a> for setup instructions.\n",
       "</p>\n",
       "<p>\n",
       "  If you're reading this message in another frontend (for example, a static\n",
       "  rendering on GitHub or <a href=\"https://nbviewer.jupyter.org/\">NBViewer</a>),\n",
       "  it may mean that your frontend doesn't currently support widgets.\n",
       "</p>\n"
      ],
      "text/plain": [
       "interactive(children=(IntSlider(value=10, description='x', max=30, min=-10), Output()), _dom_classes=('widget-interact',))"
      ]
     },
     "metadata": {},
     "output_type": "display_data"
    }
   ],
   "source": [
    "from ipywidgets import interact\n",
    "\n",
    "def f(x):\n",
    "    return x\n",
    "interact(f, x=10);"
   ]
  },
  {
   "cell_type": "code",
   "execution_count": 7,
   "metadata": {
    "slideshow": {
     "slide_type": "slide"
    }
   },
   "outputs": [
    {
     "data": {
      "application/vnd.jupyter.widget-view+json": {
       "model_id": "60b2357dfb364e419ccb8b682b7f2008",
       "version_major": 2,
       "version_minor": 0
      },
      "text/html": [
       "<p>Failed to display Jupyter Widget of type <code>Map</code>.</p>\n",
       "<p>\n",
       "  If you're reading this message in the Jupyter Notebook or JupyterLab Notebook, it may mean\n",
       "  that the widgets JavaScript is still loading. If this message persists, it\n",
       "  likely means that the widgets JavaScript library is either not installed or\n",
       "  not enabled. See the <a href=\"https://ipywidgets.readthedocs.io/en/stable/user_install.html\">Jupyter\n",
       "  Widgets Documentation</a> for setup instructions.\n",
       "</p>\n",
       "<p>\n",
       "  If you're reading this message in another frontend (for example, a static\n",
       "  rendering on GitHub or <a href=\"https://nbviewer.jupyter.org/\">NBViewer</a>),\n",
       "  it may mean that your frontend doesn't currently support widgets.\n",
       "</p>\n"
      ],
      "text/plain": [
       "Map(basemap={'url': 'https://{s}.tile.openstreetmap.org/{z}/{x}/{y}.png', 'max_zoom': 19, 'attribution': 'Map data (c) <a href=\"https://openstreetmap.org\">OpenStreetMap</a> contributors'}, center=[34.6252978589571, -77.34580993652344], layers=(TileLayer(base=True, max_zoom=19, min_zoom=1, options=['attribution', 'detect_retina', 'max_zoom', 'min_zoom', 'tile_size']),), options=['attribution_control', 'basemap', 'bounce_at_zoom_limits', 'box_zoom', 'center', 'close_popup_on_click', 'double_click_zoom', 'dragging', 'inertia', 'inertia_deceleration', 'inertia_max_speed', 'keyboard', 'keyboard_pan_offset', 'keyboard_zoom_offset', 'max_zoom', 'min_zoom', 'scroll_wheel_zoom', 'tap', 'tap_tolerance', 'touch_zoom', 'world_copy_jump', 'zoom', 'zoom_animation_threshold', 'zoom_control', 'zoom_start'], zoom=10)"
      ]
     },
     "metadata": {},
     "output_type": "display_data"
    }
   ],
   "source": [
    "from ipyleaflet import Map\n",
    "\n",
    "Map(center=[34.6252978589571, -77.34580993652344], zoom=10)"
   ]
  },
  {
   "cell_type": "code",
   "execution_count": 1,
   "metadata": {
    "slideshow": {
     "slide_type": "slide"
    }
   },
   "outputs": [
    {
     "data": {
      "application/vnd.jupyter.widget-view+json": {
       "model_id": "6e52c02703974019876b786a43d61b82",
       "version_major": 2,
       "version_minor": 0
      },
      "text/html": [
       "<p>Failed to display Jupyter Widget of type <code>VBox</code>.</p>\n",
       "<p>\n",
       "  If you're reading this message in the Jupyter Notebook or JupyterLab Notebook, it may mean\n",
       "  that the widgets JavaScript is still loading. If this message persists, it\n",
       "  likely means that the widgets JavaScript library is either not installed or\n",
       "  not enabled. See the <a href=\"https://ipywidgets.readthedocs.io/en/stable/user_install.html\">Jupyter\n",
       "  Widgets Documentation</a> for setup instructions.\n",
       "</p>\n",
       "<p>\n",
       "  If you're reading this message in another frontend (for example, a static\n",
       "  rendering on GitHub or <a href=\"https://nbviewer.jupyter.org/\">NBViewer</a>),\n",
       "  it may mean that your frontend doesn't currently support widgets.\n",
       "</p>\n"
      ],
      "text/plain": [
       "VBox(children=(Figure(camera_center=[0.0, 0.0, 0.0], height=500, matrix_projection=[0.0, 0.0, 0.0, 0.0, 0.0, 0.0, 0.0, 0.0, 0.0, 0.0, 0.0, 0.0, 0.0, 0.0, 0.0, 0.0], matrix_world=[0.0, 0.0, 0.0, 0.0, 0.0, 0.0, 0.0, 0.0, 0.0, 0.0, 0.0, 0.0, 0.0, 0.0, 0.0, 0.0], scatters=[Scatter(color_selected=array('white',\n",
       "      dtype='<U5'), geo='sphere', size=array(1), size_selected=array(2.6), x=array([ 0.12355977,  0.51116144,  0.0614433 ,  0.99271975,  0.29543591,\n",
       "        0.2739319 ,  0.55504512,  0.4648574 ,  0.31560208,  0.11370842,\n",
       "        0.2921673 ,  0.65662065,  0.87270701,  0.31257233,  0.03389423,\n",
       "        0.96432713,  0.64721816,  0.24905218,  0.08203767,  0.05642952,\n",
       "        0.38442751,  0.21770651,  0.6653974 ,  0.14988489,  0.66153927,\n",
       "        0.63685011,  0.84407222,  0.85829887,  0.66322682,  0.14741692,\n",
       "        0.41924355,  0.65453271,  0.51418035,  0.67132485,  0.40735229,\n",
       "        0.69199537,  0.79794877,  0.34615099,  0.93007289,  0.24355361,\n",
       "        0.43342775,  0.40508545,  0.87867271,  0.904006  ,  0.5841124 ,\n",
       "        0.09584059,  0.6852247 ,  0.44385768,  0.60231533,  0.1083011 ,\n",
       "        0.27314627,  0.39321528,  0.1823594 ,  0.40201721,  0.02061098,\n",
       "        0.35727759,  0.08363154,  0.90207219,  0.65250536,  0.90436271,\n",
       "        0.25696804,  0.93431904,  0.70748112,  0.84956101,  0.01001512,\n",
       "        0.83165006,  0.54112936,  0.12552071,  0.97871739,  0.82761068,\n",
       "        0.40085912,  0.62185602,  0.61318701,  0.70861291,  0.64577272,\n",
       "        0.78334481,  0.96191552,  0.10406956,  0.23703249,  0.33290834,\n",
       "        0.34378508,  0.94161308,  0.07729776,  0.56552689,  0.08144439,\n",
       "        0.8252335 ,  0.66060648,  0.03182299,  0.06492375,  0.5472893 ,\n",
       "        0.3156374 ,  0.16170726,  0.65529629,  0.56211543,  0.98652592,\n",
       "        0.78399486,  0.42256434,  0.91948362,  0.58984893,  0.29672077]), y=array([ 0.84970812,  0.93298673,  0.18249102,  0.61732254,  0.68159707,\n",
       "        0.78731816,  0.13187052,  0.88154452,  0.01491814,  0.28400095,\n",
       "        0.13595381,  0.76534702,  0.037082  ,  0.108766  ,  0.84487767,\n",
       "        0.7813408 ,  0.92275843,  0.09501436,  0.25600426,  0.66656346,\n",
       "        0.86742871,  0.0276963 ,  0.87836895,  0.23046658,  0.85718692,\n",
       "        0.68061065,  0.13484472,  0.35773825,  0.20946905,  0.73493626,\n",
       "        0.16740627,  0.73494604,  0.96124349,  0.17371704,  0.85761497,\n",
       "        0.78669474,  0.56997831,  0.17681139,  0.87132384,  0.33632797,\n",
       "        0.56470254,  0.18166424,  0.72019773,  0.56428295,  0.43280809,\n",
       "        0.45045851,  0.70644103,  0.38645213,  0.57496592,  0.1082375 ,\n",
       "        0.27211047,  0.80378822,  0.86564721,  0.29966078,  0.32009139,\n",
       "        0.56431949,  0.90162767,  0.30575463,  0.7193276 ,  0.3416134 ,\n",
       "        0.33448026,  0.02166244,  0.49740309,  0.52291702,  0.08702718,\n",
       "        0.04932456,  0.92824805,  0.62864994,  0.59439316,  0.48484634,\n",
       "        0.19485098,  0.99801748,  0.02925337,  0.37803927,  0.97101467,\n",
       "        0.52654441,  0.07980547,  0.27184576,  0.39760802,  0.20924943,\n",
       "        0.16518219,  0.05313875,  0.30913164,  0.26736089,  0.98012978,\n",
       "        0.96358099,  0.59485748,  0.53925169,  0.5664253 ,  0.17956011,\n",
       "        0.44687802,  0.00443132,  0.061967  ,  0.41948968,  0.37658596,\n",
       "        0.5773644 ,  0.80144051,  0.49288114,  0.09566784,  0.11540411]), z=array([ 0.69504855,  0.08074867,  0.93934505,  0.82747283,  0.85541895,\n",
       "        0.3994264 ,  0.19095407,  0.62830989,  0.40924757,  0.44957135,\n",
       "        0.68927971,  0.911852  ,  0.703125  ,  0.35929909,  0.35733388,\n",
       "        0.38356583,  0.65532826,  0.09031424,  0.63597869,  0.32959611,\n",
       "        0.27005667,  0.76717147,  0.13124511,  0.77065857,  0.57860305,\n",
       "        0.57639666,  0.17100288,  0.24041449,  0.96692095,  0.17741569,\n",
       "        0.77684423,  0.215466  ,  0.73319054,  0.14729686,  0.35204806,\n",
       "        0.43962713,  0.01037835,  0.15563848,  0.82347713,  0.20487198,\n",
       "        0.83305155,  0.04754289,  0.95749227,  0.66031576,  0.15493203,\n",
       "        0.78806227,  0.25830337,  0.7373838 ,  0.56808065,  0.31402469,\n",
       "        0.89412167,  0.65183939,  0.27262263,  0.84183531,  0.28199396,\n",
       "        0.22303652,  0.27394751,  0.88346415,  0.0784182 ,  0.07112566,\n",
       "        0.17307408,  0.00574871,  0.56852258,  0.16473098,  0.54747616,\n",
       "        0.76801632,  0.81038131,  0.2780083 ,  0.97758343,  0.64176199,\n",
       "        0.93086615,  0.47695727,  0.08872016,  0.89623975,  0.80887739,\n",
       "        0.10087574,  0.90495145,  0.05956702,  0.86000918,  0.00916164,\n",
       "        0.49059451,  0.54974598,  0.13825022,  0.81881965,  0.33503152,\n",
       "        0.32196782,  0.74445377,  0.21494988,  0.20511757,  0.3095144 ,\n",
       "        0.91808341,  0.81642949,  0.84180619,  0.20795698,  0.33096801,\n",
       "        0.76334386,  0.97505306,  0.02378038,  0.61368392,  0.1060374 ]))], style={'axes': {'visible': True, 'label': {'color': 'black'}, 'ticklabel': {'color': 'black'}, 'color': 'black'}, 'box': {'visible': True}, 'background-color': 'white'}, tf=None, width=400, xlim=[0.0, 1.0], ylim=[0.0, 1.0], zlim=[0.0, 1.0]),))"
      ]
     },
     "metadata": {},
     "output_type": "display_data"
    }
   ],
   "source": [
    "import ipyvolume as ipv\n",
    "import numpy as np\n",
    "x, y, z = np.random.random((3, 100))\n",
    "f = ipv.figure(key='red')\n",
    "ipv.scatter(x, y, z, size=1, marker=\"sphere\")\n",
    "ipv.show()"
   ]
  },
  {
   "cell_type": "markdown",
   "metadata": {
    "slideshow": {
     "slide_type": "slide"
    }
   },
   "source": [
    "## Jupyterlab\n",
    "\n",
    "- Same notebook format/server but greatly improved client interface\n",
    "- A web IDE (not quite there yet)\n",
    "- A View/Model mechanism for all documents\n",
    "  - allow e.g. ti write a document in md/latex and see live preview\n",
    "- Highly customizable by extensions (all curent parts are extensions) :\n",
    "  - git/github\n",
    "  - draw.io\n",
    "  - geojson \n",
    "  - ...\n",
    "  \n",
    " ### Demo : change /tree to /lab\n",
    " "
   ]
  },
  {
   "cell_type": "markdown",
   "metadata": {
    "slideshow": {
     "slide_type": "slide"
    }
   },
   "source": [
    "## JupyterHub\n",
    "\n",
    "\n",
    "<div class=\"row\" style=\"display:flex;width:100%\">\n",
    "<div class=\"column\" style=\"margin:10px; flex:auto\">\n",
    "<h3> Composants </h3>\n",
    "<ul>\n",
    "<li>A web proxy\n",
    "<li>An environnement image (docker)\n",
    "<li>A list of users\n",
    "</ul>\n",
    "\n",
    "<h3>JupyterHub@UGA</h3>\n",
    "https://jupyterhub.u-ga.fr\n",
    "</div>\n",
    "<div class=\"column\" style=\"flex:auto;margin:10px\">\n",
    "<img src=\"jupyterhub_schema.png\">\n",
    "</div>\n",
    "</div>"
   ]
  },
  {
   "cell_type": "markdown",
   "metadata": {
    "slideshow": {
     "slide_type": "slide"
    }
   },
   "source": [
    "## BinderHub\n",
    "\n",
    "<div class=\"row\" style=\"display:flex; margin: 0 auto; width: 100%\">\n",
    "<div class=\"column\" style=\"flex:30%; margin: 10px\">\n",
    "    Combine the proxy to docker instance of Jupyterhub with a project for \"repo to docker image\"\n",
    "\n",
    "<ul>\n",
    "<li> We put our code (demo/tuto, course...) on a github repo online\n",
    "<li> We generate a link on https://mybinder.org/ from our repo link\n",
    "<li> When going to this new url, any webuser get a sandbox containing our code and with all wanted packages already installed.\n",
    "</ul>\n",
    "</div>\n",
    "<div class=\"column\" style=\"flex:40%; margin: 10px\">\n",
    "<img src=\"architecture.png\">\n",
    "</div>\n",
    "</div>\n"
   ]
  },
  {
   "cell_type": "markdown",
   "metadata": {
    "slideshow": {
     "slide_type": "slide"
    }
   },
   "source": [
    "## Summary of user stories\n",
    "\n",
    "- Do data analysis, prototyping...\n",
    "    -> Jupyterlab : Notebook + editor+console+terminal\n",
    "- Publish a demo/tuto of a library\n",
    "    -> BinderHub : https://mybinder.org/\n",
    "- Share a static (html) version of a notebook online  :\n",
    "    -> nbviewer : https://nbviewer.jupyter.org/\n",
    "- Give a working environment to students  :\n",
    "    -> jupyterhub : https://jupyterhub.u-ga.fr\n",
    "- Give, fetch and grade exercises : nbgrader"
   ]
  },
  {
   "cell_type": "markdown",
   "metadata": {
    "slideshow": {
     "slide_type": "slide"
    }
   },
   "source": [
    "## Lots of utilities\n",
    "\n",
    "- nbconvert (used by nbviewer and \"Download as\" menu) : convert notebook in md, latex, pdf, slides html\n",
    "- RISE : jupyter in slides mode\n",
    "- nteract : notebook in native app (no browser)\n",
    "- hydrogen : interactive coding in Atom editor\n",
    "- notedown/ipyrmd : write a notebook in (r)markdown\n",
    "- nbinteract/thebelab : interactive html\n",
    "- [Gallery of notebooks, books etc...](https://github.com/jupyter/jupyter/wiki/a-gallery-of-interesting-jupyter-notebooks)\n",
    "- [Colaboratory](https://colab.research.google.com) : jupyter notebook in Google Drive : collaborative :-), Google :-("
   ]
  },
  {
   "cell_type": "markdown",
   "metadata": {
    "slideshow": {
     "slide_type": "slide"
    }
   },
   "source": [
    "## Jupyter@UGA\n",
    "\n",
    "### Already here :\n",
    "A JupyterHub server : https://jupyterhub.u-ga.fr\n",
    "\n",
    "- Jupyter notebook access\n",
    "- CAS UGA authentication(login agalan)\n",
    "- 1 single environment (Docker image) : scientific paqckages R+Python \n",
    "- 2 servers : 128Go RAM, 32 coeurs\n",
    "- ~150 users\n",
    "- Persistant data\n",
    "\n",
    "\n",
    "### In development\n",
    "- A binderhub service\n",
    "- A platform to ask for jupyterhub instances (for workshops, classes...)"
   ]
  },
  {
   "cell_type": "markdown",
   "metadata": {
    "slideshow": {
     "slide_type": "slide"
    }
   },
   "source": [
    "## Take-home message\n",
    "\n",
    "- Jupyter is no more \"just\" Python and the Notebook.\n",
    "\n",
    "But\n",
    "- An open-source ecosystem becoming larger and larger, cross-language and with numerous usages\n",
    "- Current integration of services at UGA and nationaly\n",
    "- A great tool for BOTH researching and teaching \n",
    "\n",
    "*Open tools for open science :-)*"
   ]
  }
 ],
 "metadata": {
  "celltoolbar": "Slideshow",
  "kernelspec": {
   "display_name": "Python 3",
   "language": "python",
   "name": "python3"
  },
  "language_info": {
   "codemirror_mode": {
    "name": "ipython",
    "version": 3
   },
   "file_extension": ".py",
   "mimetype": "text/x-python",
   "name": "python",
   "nbconvert_exporter": "python",
   "pygments_lexer": "ipython3",
   "version": "3.6.4"
  }
 },
 "nbformat": 4,
 "nbformat_minor": 2
}
